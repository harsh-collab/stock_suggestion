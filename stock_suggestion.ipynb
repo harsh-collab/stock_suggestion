{
 "cells": [
  {
   "cell_type": "code",
   "execution_count": null,
   "id": "140f8daa",
   "metadata": {},
   "outputs": [],
   "source": [
    "Automation"
   ]
  },
  {
   "cell_type": "code",
   "execution_count": 2,
   "id": "5bc28160",
   "metadata": {},
   "outputs": [
    {
     "data": {
      "text/plain": [
       "True"
      ]
     },
     "execution_count": 2,
     "metadata": {},
     "output_type": "execute_result"
    }
   ],
   "source": [
    "import webbrowser\n",
    "webbrowser.register('chrome',None,webbrowser.BackgroundBrowser(\"C://Program Files//Google//Chrome//Application//chrome.exe\"))\n",
    "\n",
    "webbrowser.get('chrome').open(\"https://www.udemy.com/\")"
   ]
  },
  {
   "cell_type": "code",
   "execution_count": null,
   "id": "04b3269a",
   "metadata": {},
   "outputs": [],
   "source": [
    "Gui - windows\n",
    "Cli - linux"
   ]
  },
  {
   "cell_type": "code",
   "execution_count": 2,
   "id": "1c30c908",
   "metadata": {},
   "outputs": [
    {
     "data": {
      "text/plain": [
       "True"
      ]
     },
     "execution_count": 2,
     "metadata": {},
     "output_type": "execute_result"
    }
   ],
   "source": [
    "import webbrowser\n",
    "webbrowser.register('chrome',None,webbrowser.BackgroundBrowser(\"C://Program Files//Google//Chrome//Application//chrome.exe\"))\n",
    "\n",
    "webbrowser.get('chrome').open('https://kite.zerodha.com/chart/ext/ciq/NSE/RELIANCE/738561')"
   ]
  },
  {
   "cell_type": "code",
   "execution_count": null,
   "id": "6c88e3b8",
   "metadata": {},
   "outputs": [],
   "source": [
    "https://zerodha.com/margin-calculator/Equity/"
   ]
  },
  {
   "cell_type": "code",
   "execution_count": null,
   "id": "89d4ee5a",
   "metadata": {},
   "outputs": [
    {
     "name": "stdout",
     "output_type": "stream",
     "text": [
      "do you want to see next charts (y/n): n\n"
     ]
    }
   ],
   "source": [
    "import openpyxl\n",
    "import webbrowser\n",
    "import time\n",
    "\n",
    "webbrowser.register('chrome',None,webbrowser.BackgroundBrowser(\"C://Program Files//Google//Chrome//Application//chrome.exe\"))\n",
    "\n",
    "wb1 = openpyxl.load_workbook('C://Users//HARSH//OneDrive//Desktop//all_instruments.xlsx')\n",
    "sheet1 = wb1.active\n",
    "\n",
    "wb2 = openpyxl.load_workbook('C://Users//HARSH//OneDrive//Desktop//stock50.xlsx')\n",
    "sheet2 = wb2.active\n",
    "\n",
    "x = 0\n",
    "for j in range(1,100):\n",
    "    for i in range(1+x,10+x):\n",
    "        stock = sheet2.cell(row=i, column=1)\n",
    "        for row in sheet1.rows:\n",
    "            if stock.value == row[1].value:\n",
    "                api = row[0].value\n",
    "#                 print(stock.value,api)\n",
    "                webbrowser.get('chrome').open('https://kite.zerodha.com/chart/ext/ciq/NSE/'+stock.value+'/'+str(api))\n",
    "    x+=10\n",
    "    time.sleep(40)\n",
    "    user = input('do you want to see next charts (y/n): ')\n",
    "    if user == 'y':\n",
    "        continue\n",
    "    else:\n",
    "        break\n",
    "\n",
    "# for i in range(1,10):\n",
    "# for row in sheet1.rows:\n",
    "#     print(row[1].value)\n",
    "    \n"
   ]
  },
  {
   "cell_type": "code",
   "execution_count": 12,
   "id": "4e5e63c9",
   "metadata": {},
   "outputs": [
    {
     "name": "stdout",
     "output_type": "stream",
     "text": [
      "['DMART']\n"
     ]
    }
   ],
   "source": [
    "import pandas as pd\n",
    "from bs4 import BeautifulSoup\n",
    "import requests\n",
    "import xlsxwriter\n",
    "\n",
    "url = \"https://chartink.com/screener/process\"\n",
    "l1 = []\n",
    "# rule = {\"scan_clause\" : \"( {cash} ( [0] 5 minute rsi  ( 14 ) < 30 and [0] 5 minute ema ( [0] 5 minute close , 100 ) > [0] 5 minute close ) ) )\" }\n",
    "\n",
    "rule = {\"scan_clause\" : \"( {cash} ( latest rsi( 14 ) > latest ema( latest rsi( 9 ) , 21 ) and 1 day ago  rsi( 14 ) <= 1 day ago  ema( latest rsi( 9 ) , 21 ) and latest rsi( 14 ) > 70 and market cap > 1500 ) ) \"}\n",
    "\n",
    "\n",
    "with requests.session() as s:\n",
    "    my_data = s.get(url)\n",
    "    soup =  BeautifulSoup(my_data.content)\n",
    "    \n",
    "    meta = soup.find(\"meta\", {\"name\" :\"csrf-token\"})[\"content\"]\n",
    "    \n",
    "    header = {\"x-csrf-token\" : meta}\n",
    "    data = s.post(url , headers=header , data = rule).json()\n",
    "    \n",
    "    stock_list = pd.DataFrame(data[\"data\"])\n",
    "    \n",
    "    l1.append(stock_list[\"nsecode\"][0])\n",
    "    \n",
    "df = pd.DataFrame({\"stocks\": l1})\n",
    "df.to_excel(\"C://Users//HARSH//OneDrive//Desktop//stock50.xlsx\",index=False)\n",
    "print(l1)"
   ]
  },
  {
   "cell_type": "code",
   "execution_count": null,
   "id": "3abed6dc",
   "metadata": {},
   "outputs": [],
   "source": []
  },
  {
   "cell_type": "code",
   "execution_count": null,
   "id": "b4f98192",
   "metadata": {},
   "outputs": [],
   "source": []
  },
  {
   "cell_type": "code",
   "execution_count": null,
   "id": "35628421",
   "metadata": {},
   "outputs": [],
   "source": []
  },
  {
   "cell_type": "code",
   "execution_count": null,
   "id": "8083751e",
   "metadata": {},
   "outputs": [],
   "source": []
  }
 ],
 "metadata": {
  "kernelspec": {
   "display_name": "Python 3 (ipykernel)",
   "language": "python",
   "name": "python3"
  },
  "language_info": {
   "codemirror_mode": {
    "name": "ipython",
    "version": 3
   },
   "file_extension": ".py",
   "mimetype": "text/x-python",
   "name": "python",
   "nbconvert_exporter": "python",
   "pygments_lexer": "ipython3",
   "version": "3.9.13"
  }
 },
 "nbformat": 4,
 "nbformat_minor": 5
}
